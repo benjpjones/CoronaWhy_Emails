{
 "cells": [
  {
   "cell_type": "code",
   "execution_count": 69,
   "metadata": {},
   "outputs": [],
   "source": [
    "# This notebook runs through the list of email addresses \n",
    "#  from the authors metadata and cleans them by \n",
    "#  fixing some commonly observed pathologies "
   ]
  },
  {
   "cell_type": "code",
   "execution_count": 70,
   "metadata": {},
   "outputs": [],
   "source": [
    "import pandas as pd\n",
    "import numpy as np"
   ]
  },
  {
   "cell_type": "code",
   "execution_count": 71,
   "metadata": {},
   "outputs": [],
   "source": [
    "#read the data file and extract non-null email entries\n",
    "dat=pd.read_excel(\"./Authors.xlsx\")\n",
    "NonNullEmail=dat.loc[dat.email.notna()]\n",
    "Emails=NonNullEmail.email"
   ]
  },
  {
   "cell_type": "code",
   "execution_count": 72,
   "metadata": {},
   "outputs": [],
   "source": [
    "# Find the most common domain endings in the set.\n",
    "# Since majority are entries, we can use thse to help us \n",
    "# split concatenated strings. Good domains have >1 characrter.\n",
    "CommonEndings={}\n",
    "for em in Emails:\n",
    "    Ending=em.split('.')[-1]\n",
    "    if(len(Ending)>1):\n",
    "        if(not Ending in CommonEndings.keys()):\n",
    "            CommonEndings[Ending]=1\n",
    "        else:\n",
    "            CommonEndings[Ending]+=1\n",
    "\n",
    "# An ending is popular (and so probably real)\n",
    "# if it has >5 use cases in the set.           \n",
    "PopularEndings=[]\n",
    "PopularCounts=[]\n",
    "for key in CommonEndings.keys():\n",
    "    if(CommonEndings[key]>5):\n",
    "        PopularEndings.append(\".\"+key)\n",
    "        PopularCounts.append(CommonEndings[key])\n",
    "endings=np.array(PopularEndings)"
   ]
  },
  {
   "cell_type": "code",
   "execution_count": 73,
   "metadata": {},
   "outputs": [
    {
     "name": "stdout",
     "output_type": "stream",
     "text": [
      "Popular endings:\n",
      "['.int' '.gov.uk' '.edu' '.com' '.cn' '.uk' '.de' '.fr' '.ca' '.org' '.au'\n",
      " '.tw' '.jp' '.gov' '.it' '.nl' '.kr' '.hk' '.ch' '.es' '.sg' '.br' '.se'\n",
      " '.sa' '.fi' '.net' '.be' '.pl' '.nz' '.at' '.no' '.za' '.ie' '.il' '.ir'\n",
      " '.mil' '.eu' '.ru' '.in' '.dk' '.th' '.cat' '.int' '.gr' '.pt' '.cz'\n",
      " '.ar' '.my' '.cl' '.qa' '.mx' '.co' '.si' '.com†']\n"
     ]
    }
   ],
   "source": [
    "# I noticed from the dataset that we need to protect these two, \n",
    "# since they contain within them other good (more popular) domain\n",
    "# strins\n",
    "endings=endings[np.argsort(PopularCounts)][::-1]\n",
    "endings=np.concatenate([[\".int\",\".gov.uk\"],endings])\n",
    "\n",
    "print(\"Popular endings:\")\n",
    "print(endings)"
   ]
  },
  {
   "cell_type": "code",
   "execution_count": 74,
   "metadata": {},
   "outputs": [],
   "source": [
    "# This function fixes two pathologies:\n",
    "#  1) Bad characters or strings jammed into the email address - common ones\n",
    "#       picked out by observation of the list;\n",
    "#\n",
    "#  2) Valid email concatenated at end with more text, identified via\n",
    "#       noting occurence of popular domain name in the string.\n",
    "#\n",
    "#   [We cannot fix concatenated at beginning, since string jammed on front is\n",
    "#   still a valid formatted address, in most cases.]\n",
    "\n",
    "def FixIt(em):\n",
    "    # Forbidden word /symbol cleaning\n",
    "    forbidden=['author','emailaddress','correspondingauthor','telephone','<','>','*-','*',':','†']\n",
    "    Changed=False\n",
    "    for forb in forbidden:\n",
    "        if(forb in em):\n",
    "            splits=em.split(forb)\n",
    "            for s in splits:\n",
    "                #after split, the part contianing \n",
    "                #  an @ is an email address\n",
    "                if \"@\" in s:   \n",
    "                    em=s\n",
    "                    \n",
    "    # popular domain name based cleaning        \n",
    "    for ending in endings:\n",
    "        found=(em.find(ending))\n",
    "        wheresat=em.find(\"@\")\n",
    "\n",
    "        if((found>0) and ((found+len(ending))<=len(em)) and (found > wheresat)):\n",
    "            em=em[0:found+len(ending)]\n",
    "            break\n",
    "    \n",
    "    return em\n"
   ]
  },
  {
   "cell_type": "code",
   "execution_count": 75,
   "metadata": {},
   "outputs": [
    {
     "name": "stdout",
     "output_type": "stream",
     "text": [
      "jenny.gravel@daf.qld.gov.auj.l.g. -> jenny.gravel@daf.qld.gov.au\n",
      "ssawyer@colorado.edusls -> ssawyer@colorado.edu\n",
      "*ssawyer@colorado.edu -> ssawyer@colorado.edu\n",
      "emma.l.walton@ntnu.noe.l.w. -> emma.l.walton@ntnu.no\n",
      "*claudio.afonso@ars.usda.gov -> claudio.afonso@ars.usda.gov\n",
      "debuysscherb@niaid.nih.govb.l.d. -> debuysscherb@niaid.nih.gov\n",
      "vpopov@utmb.eduv.l.p. -> vpopov@utmb.edu\n",
      "cbailey2@gmu.educ.l.b. -> cbailey2@gmu.edu\n",
      "*east@izw-berlin.de -> east@izw-berlin.de\n",
      "amylkistler*-amy@derisilab.ucsf.edu -> amy@derisilab.ucsf.edu\n",
      "martinlhibberd-hibberdml@gis.a-star.edu.sg -> martinlhibberd-hibberdml@gis.a-star.edu\n",
      "p.molyneaux@imperial.ac.ukp.l.m. -> p.molyneaux@imperial.ac.uk\n",
      "sarahll@unimelb.edu.au -> sarahll@unimelb.edu\n",
      "suzanne.epstein@fda.hhs.gov¤a -> suzanne.epstein@fda.hhs.gov\n",
      "michelle.baker@csiro.aum.l.b. -> michelle.baker@csiro.au\n",
      "brian_mark@umanitoba.cablm -> brian_mark@umanitoba.ca\n",
      "grant.hughes@lstmed.ac.uk*correspondence:sanchitabhadra@utexas.edu -> sanchitabhadra@utexas.edu\n",
      "ksarachan@albany.eduk.l.s. -> ksarachan@albany.edu\n",
      "*marcio.rodrigues@fiocruz.brmlr -> marcio.rodrigues@fiocruz.br\n",
      "*susan.brockmeier@ars.usda.gov -> susan.brockmeier@ars.usda.gov\n",
      "*roperr@ecu.edu -> roperr@ecu.edu\n",
      "s.l.cervantes.ortiz@umontreal.cas.l.c.-o. -> s.l.cervantes.ortiz@umontreal.ca\n",
      "jane.arthur@imvs.sa.gov.aujla -> jane.arthur@imvs.sa.gov.au\n",
      "thomas.burkard@rub.det.l.b. -> thomas.burkard@rub.de\n",
      "*jldunnum@unm.edu -> jldunnum@unm.edu\n",
      "*dpendell@ksu.edu -> dpendell@ksu.edu\n",
      "margaretlrussell*-mlrussel@ucalgary.ca -> mlrussel@ucalgary.ca\n",
      "*paul.wood@lmunet.eduplw -> paul.wood@lmunet.edu\n",
      "david.l.robertson@glasgow.ac.ukd.l.r. -> david.l.robertson@glasgow.ac.uk\n",
      "mmeli@vetclinics.uzh.chm.l.m. -> mmeli@vetclinics.uzh.ch\n",
      "spencer.sterling.ctr@usuhs.edus.l.s. -> spencer.sterling.ctr@usuhs.edu\n",
      "andrew.snow@usuhs.edua.l.s. -> andrew.snow@usuhs.edu\n",
      "joanlrobinson*-jr3@ualberta.ca -> jr3@ualberta.ca\n",
      "*norriss@who.int -> norriss@who.int\n",
      "mmeli@vetclinics.uzh.chm.l.m. -> mmeli@vetclinics.uzh.ch\n",
      "*kinnear@unimelb.edu.au -> kinnear@unimelb.edu\n",
      "mark.everard@uwa.edu.aumle -> mark.everard@uwa.edu\n",
      "priscilla.l.williams4.ctr@mail.milp.l.w. -> priscilla.l.williams4.ctr@mail.mil\n",
      "mheinrich7295@gmail.comm.l.h. -> mheinrich7295@gmail.com\n",
      "mpleet@gmu.edum.l.p. -> mpleet@gmu.edu\n",
      "brian.mark@umanitoba.cablm -> brian.mark@umanitoba.ca\n",
      "joselgarrido*-jlg114@pitt.edu -> jlg114@pitt.edu\n",
      "*deem@stlzoo.org -> deem@stlzoo.org\n",
      "*ssawyer@colorado.edu -> ssawyer@colorado.edu\n",
      "fabiojms@icb.ufrj.brf.j.m.s. -> fabiojms@icb.ufrj.br\n",
      "david.l.robertson@glasgow.ac.ukd.l.r. -> david.l.robertson@glasgow.ac.uk\n"
     ]
    }
   ],
   "source": [
    "# Sample 100 for smell test\n",
    "for em in Emails[0:100]:\n",
    "    em2=FixIt(em)\n",
    "    if(em2!=em):\n",
    "        print(em + \" -> \" + em2)"
   ]
  },
  {
   "cell_type": "code",
   "execution_count": 76,
   "metadata": {},
   "outputs": [
    {
     "name": "stderr",
     "output_type": "stream",
     "text": [
      "/usr/local/lib/python3.7/site-packages/ipykernel_launcher.py:11: SettingWithCopyWarning: \n",
      "A value is trying to be set on a copy of a slice from a DataFrame.\n",
      "Try using .loc[row_indexer,col_indexer] = value instead\n",
      "\n",
      "See the caveats in the documentation: https://pandas.pydata.org/pandas-docs/stable/user_guide/indexing.html#returning-a-view-versus-a-copy\n",
      "  # This is added back by InteractiveShellApp.init_path()\n"
     ]
    }
   ],
   "source": [
    "#Now go ahead and apply it to the dataset\n",
    "WithEmails=dat.loc[dat.email.notna()]\n",
    "\n",
    "def FixEmail(row):\n",
    "    newem=FixIt(row.email)\n",
    "    if(newem!=row.email):\n",
    "        row.rawemail=row.email\n",
    "        row.email=newem\n",
    "    return row\n",
    "\n",
    "WithEmails['originalemail']=WithEmails.email\n",
    "WithEmails=WithEmails.apply(FixEmail,axis='columns')"
   ]
  },
  {
   "cell_type": "code",
   "execution_count": 77,
   "metadata": {},
   "outputs": [],
   "source": [
    "# Save it to a file\n",
    "WithEmails.to_excel(\"CleanedEmails.xlsx\")"
   ]
  }
 ],
 "metadata": {
  "kernelspec": {
   "display_name": "Python 3",
   "language": "python",
   "name": "python3"
  },
  "language_info": {
   "codemirror_mode": {
    "name": "ipython",
    "version": 3
   },
   "file_extension": ".py",
   "mimetype": "text/x-python",
   "name": "python",
   "nbconvert_exporter": "python",
   "pygments_lexer": "ipython3",
   "version": "3.7.7"
  }
 },
 "nbformat": 4,
 "nbformat_minor": 2
}
